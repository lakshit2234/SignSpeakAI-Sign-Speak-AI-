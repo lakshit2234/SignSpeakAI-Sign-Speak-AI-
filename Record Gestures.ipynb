{
 "cells": [
  {
   "cell_type": "code",
   "execution_count": 30,
   "id": "dc6e3b62-cef7-43e6-af3b-7825135d965f",
   "metadata": {},
   "outputs": [],
   "source": [
    "import cv2\n",
    "import mediapipe as mp\n",
    "import numpy as np\n",
    "import os\n"
   ]
  },
  {
   "cell_type": "code",
   "execution_count": 31,
   "id": "83fd7b7d-072f-4de6-a4dc-88071c61e813",
   "metadata": {},
   "outputs": [],
   "source": [
    "mp_hands = mp.solutions.hands\n",
    "hands = mp_hands.Hands(\n",
    "    max_num_hands=2,  \n",
    "    min_detection_confidence=0.8, \n",
    "    min_tracking_confidence=0.8\n",
    ")\n",
    "mp_drawing = mp.solutions.drawing_utils"
   ]
  },
  {
   "cell_type": "code",
   "execution_count": 32,
   "id": "82fd539c-0721-4398-8227-4fbe8730e47c",
   "metadata": {},
   "outputs": [],
   "source": [
    "GESTURE = \"Handshake\"\n",
    "SAVE_DIR = f\"data/{GESTURE}\"\n",
    "os.makedirs(SAVE_DIR, exist_ok=True)\n",
    "\n",
    "cap = cv2.VideoCapture(0)\n",
    "count = 0\n",
    "\n",
    "def extract_keypoints(results):\n",
    "    keypoints = np.zeros(126) \n",
    "\n",
    "    if results.multi_hand_landmarks:\n",
    "        for i, hand_landmarks in enumerate(results.multi_hand_landmarks):\n",
    "            for j, landmark in enumerate(hand_landmarks.landmark):\n",
    "                index = (i * 63) + (j * 3)  \n",
    "                keypoints[index:index + 3] = [landmark.x, landmark.y, landmark.z]\n",
    "\n",
    "    return keypoints\n",
    "\n",
    "\n",
    "while cap.isOpened():\n",
    "    ret, frame = cap.read()\n",
    "    if not ret:\n",
    "        break\n",
    "\n",
    "    image = cv2.cvtColor(frame, cv2.COLOR_BGR2RGB)\n",
    "    results = hands.process(image)\n",
    "\n",
    "\n",
    "    if results.multi_hand_landmarks:\n",
    "        for hand_landmarks in results.multi_hand_landmarks:\n",
    "            mp_drawing.draw_landmarks(frame, hand_landmarks, mp_hands.HAND_CONNECTIONS)\n",
    "\n",
    "        \n",
    "        keypoints = extract_keypoints(results)\n",
    "        np.save(f\"{SAVE_DIR}/{count}.npy\", keypoints)\n",
    "        count += 1\n",
    "\n",
    "    \n",
    "    cv2.putText(frame, f\"Recording {GESTURE}: {count}/500\", (10, 50), \n",
    "                cv2.FONT_HERSHEY_SIMPLEX, 1, (0, 255, 0), 2)\n",
    "    cv2.imshow('Recording Sign Gestures (Both Hands)', frame)\n",
    "\n",
    "    \n",
    "    if cv2.waitKey(1) & 0xFF == ord('q') or count >= 500:\n",
    "        break"
   ]
  },
  {
   "cell_type": "code",
   "execution_count": 33,
   "id": "1ee7893a-c58b-47c5-a38b-668c8c97df31",
   "metadata": {},
   "outputs": [
    {
     "name": "stdout",
     "output_type": "stream",
     "text": [
      " Data collection for Handshake completed successfully!\n"
     ]
    }
   ],
   "source": [
    "cap.release()\n",
    "cv2.destroyAllWindows()\n",
    "\n",
    "print(f\" Data collection for {GESTURE} completed successfully!\")"
   ]
  },
  {
   "cell_type": "code",
   "execution_count": null,
   "id": "9d519008-5daf-4f4d-9681-8d71db39115b",
   "metadata": {},
   "outputs": [],
   "source": []
  }
 ],
 "metadata": {
  "kernelspec": {
   "display_name": "Python 3 (ipykernel)",
   "language": "python",
   "name": "python3"
  },
  "language_info": {
   "codemirror_mode": {
    "name": "ipython",
    "version": 3
   },
   "file_extension": ".py",
   "mimetype": "text/x-python",
   "name": "python",
   "nbconvert_exporter": "python",
   "pygments_lexer": "ipython3",
   "version": "3.12.7"
  }
 },
 "nbformat": 4,
 "nbformat_minor": 5
}
