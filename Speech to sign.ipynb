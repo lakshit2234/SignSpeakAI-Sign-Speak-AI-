{
 "cells": [
  {
   "cell_type": "code",
   "execution_count": 1,
   "id": "e1af9e0e-a12d-4f0c-a7d3-11da77eadf60",
   "metadata": {},
   "outputs": [],
   "source": [
    "import speech_recognition as sr\n",
    "import cv2\n",
    "import os"
   ]
  },
  {
   "cell_type": "code",
   "execution_count": 2,
   "id": "b362e532-ca61-47cd-8d33-e59c2bac2781",
   "metadata": {},
   "outputs": [],
   "source": [
    "SIGN_IMAGE_DIR = \"sign_images\"\n",
    "IMAGE_EXTENSIONS = [\".jpg\", \".jpeg\", \".png\"]\n",
    "\n",
    "def find_sign_image(text):\n",
    "    for ext in IMAGE_EXTENSIONS:\n",
    "        image_path = os.path.join(SIGN_IMAGE_DIR, f\"{text}{ext}\")\n",
    "        if os.path.exists(image_path):\n",
    "            return image_path\n",
    "    return None "
   ]
  },
  {
   "cell_type": "code",
   "execution_count": 3,
   "id": "0524ea85-a0c9-4a48-b0fa-381dab9377f4",
   "metadata": {},
   "outputs": [],
   "source": [
    "def speech_to_text():\n",
    "    recognizer = sr.Recognizer()\n",
    "    recognizer.energy_threshold = 300  \n",
    "\n",
    "    with sr.Microphone() as source:\n",
    "        print(\"\\n🎤 Speak now... (Say 'exit' or 'stop' to quit)\")\n",
    "        recognizer.adjust_for_ambient_noise(source, duration=1)  \n",
    "        \n",
    "        try:\n",
    "            audio = recognizer.listen(source)  \n",
    "            \n",
    "            \n",
    "            result = recognizer.recognize_google(audio, show_all=True)\n",
    "            print(f\"🔍 Raw Recognition Data: {result}\")\n",
    "\n",
    "            if \"alternative\" in result:\n",
    "                text = result[\"alternative\"][0][\"transcript\"].strip()\n",
    "                print(f\"✅ Recognized: {text}\")\n",
    "                return text\n",
    "            else:\n",
    "                print(\"⚠️ No words detected.\")\n",
    "        \n",
    "        except sr.UnknownValueError:\n",
    "            print(\"⚠️ Could not understand audio. Try speaking louder or closer.\")\n",
    "        except sr.RequestError:\n",
    "            print(\"⚠️ Could not request results from Google Speech API.\")\n",
    "        except Exception as e:\n",
    "            print(f\"⚠️ Error: {e}\")\n",
    "    \n",
    "    return None"
   ]
  },
  {
   "cell_type": "code",
   "execution_count": 4,
   "id": "c71d4907-e72d-45ff-bad6-45613715cbdf",
   "metadata": {},
   "outputs": [
    {
     "name": "stdout",
     "output_type": "stream",
     "text": [
      "\n",
      "🎤 Speak now... (Say 'exit' or 'stop' to quit)\n",
      "🔍 Raw Recognition Data: {'alternative': [{'transcript': 'exit'}], 'final': True}\n",
      "✅ Recognized: exit\n",
      "👋 Exiting Speech-to-Sign System.\n"
     ]
    }
   ],
   "source": [
    "def display_sign(text):\n",
    "    image_path = find_sign_image(text)  \n",
    "    \n",
    "    if image_path:\n",
    "        img = cv2.imread(image_path)\n",
    "        cv2.imshow(\"Sign Language Translation\", img)\n",
    "        cv2.waitKey(2000)  \n",
    "        cv2.destroyAllWindows()\n",
    "    else:\n",
    "        print(f\"⚠️ No sign image found for: {text}\")\n",
    "\n",
    "while True:\n",
    "    recognized_text = speech_to_text()\n",
    "    \n",
    "    if recognized_text:\n",
    "        if recognized_text.lower() in [\"exit\", \"stop\"]: \n",
    "            print(\"👋 Exiting Speech-to-Sign System.\")\n",
    "            break\n",
    "        display_sign(recognized_text)"
   ]
  }
 ],
 "metadata": {
  "kernelspec": {
   "display_name": "Python 3 (ipykernel)",
   "language": "python",
   "name": "python3"
  },
  "language_info": {
   "codemirror_mode": {
    "name": "ipython",
    "version": 3
   },
   "file_extension": ".py",
   "mimetype": "text/x-python",
   "name": "python",
   "nbconvert_exporter": "python",
   "pygments_lexer": "ipython3",
   "version": "3.12.7"
  }
 },
 "nbformat": 4,
 "nbformat_minor": 5
}
