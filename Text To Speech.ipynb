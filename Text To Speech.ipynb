{
 "cells": [
  {
   "cell_type": "code",
   "execution_count": 2,
   "id": "cd43fa7a-79b9-4300-ae87-f5a372ef0505",
   "metadata": {},
   "outputs": [],
   "source": [
    "from gtts import gTTS\n",
    "import pygame\n",
    "import os\n",
    "def text_to_speech(text, lang='en'):\n",
    "    tts = gTTS(text=text, lang=lang, slow=False)\n",
    "    audio_file = \"output.mp3\"\n",
    "    tts.save(audio_file)\n",
    "\n",
    "    pygame.mixer.init()\n",
    "    pygame.mixer.music.load(audio_file)\n",
    "    pygame.mixer.music.play()\n",
    "\n",
    "    while pygame.mixer.music.get_busy():  # Wait until the audio finishes\n",
    "        continue\n",
    "\n",
    "    pygame.mixer.quit()\n",
    "    os.remove(audio_file)\n",
    "\n",
    "text_to_speech(\"I LOVE YOU\", lang='en')\n"
   ]
  },
  {
   "cell_type": "code",
   "execution_count": null,
   "id": "645a1532-7d53-4a6c-a612-41cab67f80e4",
   "metadata": {},
   "outputs": [],
   "source": []
  }
 ],
 "metadata": {
  "kernelspec": {
   "display_name": "Python 3 (ipykernel)",
   "language": "python",
   "name": "python3"
  },
  "language_info": {
   "codemirror_mode": {
    "name": "ipython",
    "version": 3
   },
   "file_extension": ".py",
   "mimetype": "text/x-python",
   "name": "python",
   "nbconvert_exporter": "python",
   "pygments_lexer": "ipython3",
   "version": "3.12.7"
  }
 },
 "nbformat": 4,
 "nbformat_minor": 5
}
